{
 "cells": [
  {
   "cell_type": "markdown",
   "id": "f59be7b6-1c7b-4d2b-a23b-0562addac796",
   "metadata": {},
   "source": [
    "# Modifying forcing to remove DPC—EDF pairs\n",
    "This notebook creates modified forcing files for ECCOv4r4 reproduction simulations in which the DPC–EDF pairs are regressed out. It is assumed the user is comfortable with setting up simulations to reproduce the ECCOv4r4 state estimate, as described in Section 2.1.4 (regular forcing) and 2.5.2 (flux forcing) of `ECCO_adjoint_instructions.pdf`, or in the [ECCOv4r4 reproduction instructions](https://ecco-group.org/docs/v4r4_reproduction_howto.pdf).\n",
    "\n",
    "The process of running ECCO with modified forcing is described in Section 2.4 of `ECCO_adjoint_instructions.pdf`, but the approach taken is to create a second directory alongside `input_forcing`, e.g. `input_forcing_modified`, and then edit the `data.exf` namelist file to tell the model to look in the second directory for certain (modified) forcing variables.\n",
    "\n",
    "While the first part of this notebook regresses EDF—DPC pairs out of the forcing, the second part adds a perturbation with the structure of the EDF and magnitude equal to one standard deviation of the DPC time series. The procedure is effectively identical, but the DPC time series is replaced with a time series of all zeros except during the first four entries (i.e. the first day) where the value is set to the standard deviation.\n",
    "\n",
    "These modified runs can then be executed as would be the ECCOv4r4 reproduction run. At the end of the notebook is a copy of the `data.diagnostics` namelist used to produce month-average output of certain variables for analysis in our study. After running the model, the script `mds_to_netcdf.py` can be run to convert the model output from binary MDS format to netCDF."
   ]
  },
  {
   "cell_type": "markdown",
   "id": "3051d21e-606e-4d17-a161-2839a3bea5dc",
   "metadata": {},
   "source": [
    "# Load DPC—EDF pairs (calculated in `3_`...`.ipynb`)"
   ]
  },
  {
   "cell_type": "code",
   "execution_count": 1,
   "id": "d6234714-188f-4cd0-a9c2-62388bd703be",
   "metadata": {},
   "outputs": [
    {
     "data": {
      "image/png": "[encoded data removed]",
      "text/plain": [
       "<Figure size 432x288 with 1 Axes>"
      ]
     },
     "metadata": {
      "needs_background": "light"
     },
     "output_type": "display_data"
    }
   ],
   "source": [
    "from DPC_functions import *"
   ]
  },
  {
   "cell_type": "code",
   "execution_count": 2,
   "id": "fe2b5ac4-8ef6-41f4-9adb-8e63fdc058e5",
   "metadata": {},
   "outputs": [],
   "source": [
    "################# Heat flux\n",
    "DPC_hflux=np.load('DPC_hflux.npy')\n",
    "EDF_hflux=np.load('EDF_hflux.npy')\n",
    "\n",
    "################## Wind stress\n",
    "DPC_tauxy=np.load('DPC_tauxy.npy')\n",
    "EDF_tauxy=np.load('EDF_tauxy.npy')"
   ]
  },
  {
   "cell_type": "markdown",
   "id": "a5973aa8-172e-4677-9008-b4359c6f554f",
   "metadata": {},
   "source": [
    "# Regress DPC—EDF pairs out of forcing\n",
    "## Heat flux"
   ]
  },
  {
   "cell_type": "code",
   "execution_count": null,
   "id": "79080171-9971-4919-acad-c3f68ef738f1",
   "metadata": {},
   "outputs": [],
   "source": [
    "eccorundir='/wherever/you/set/up/modified_forcing_runs/'\n",
    "\n",
    "outdir=(eccorundir+'DPC_hflux/input_forcing_modified/')\n",
    "os.mkdir(outdir)\n",
    "remove_forcing_pattern(EDF_hflux.flatten(),DPC_hflux.flatten(),'heat',output_dir=outdir,return_original_forcing=False)"
   ]
  },
  {
   "cell_type": "markdown",
   "id": "6422a4d5-3dfc-4414-9b96-cd10b24df91a",
   "metadata": {},
   "source": [
    "----\n",
    "## Wind stress\n"
   ]
  },
  {
   "cell_type": "code",
   "execution_count": null,
   "id": "092af4fe-61a1-4596-baa3-1905043b2b38",
   "metadata": {},
   "outputs": [],
   "source": [
    "eccorundir='/wherever/you/set/up/modified_forcing_runs/'\n",
    "\n",
    "outdir=(eccorundir+'DPC_tauxy/input_forcing_modified/')\n",
    "os.mkdir(outdir)\n",
    "remove_forcing_pattern(EDF_tauxy.flatten(),DPC_tauxy.flatten(),'wind',output_dir=outdir,return_original_forcing=False)"
   ]
  },
  {
   "cell_type": "markdown",
   "id": "fa31233c-a150-44b8-a069-e58d388e2653",
   "metadata": {},
   "source": [
    "---\n",
    "# Perturb forcing with the leading DPC\n",
    "## Heat flux"
   ]
  },
  {
   "cell_type": "code",
   "execution_count": null,
   "id": "189b8997-ba22-422c-b8f0-2ccd6885bcef",
   "metadata": {},
   "outputs": [],
   "source": [
    "eccorundir='/wherever/you/set/up/perturbed_forcing_runs/'\n",
    "\n",
    "outdir=(eccorundir+'DPC_hflux/input_forcing_modified/')\n",
    "os.mkdir(outdir)\n",
    "t=np.zeros(np.shape(DPC_hflux.flatten()))\n",
    "t[:4]=DPC_hflux.std()\n",
    "remove_forcing_pattern(EDF_hflux.flatten(),t,'heat',output_dir=outdir,return_original_forcing=False)"
   ]
  },
  {
   "cell_type": "markdown",
   "id": "a8f25ab2-dad1-43ea-9857-689d8bc9226b",
   "metadata": {},
   "source": [
    "## Wind stress"
   ]
  },
  {
   "cell_type": "code",
   "execution_count": null,
   "id": "c752ae16-9797-4855-8904-e0c4b2a15fdc",
   "metadata": {},
   "outputs": [],
   "source": [
    "eccorundir='/wherever/you/set/up/perturbed_forcing_runs/'\n",
    "\n",
    "outdir=(eccorundir+'DPC_tauxy/input_forcing_modified/')\n",
    "os.mkdir(outdir)\n",
    "t=np.zeros(np.shape(DPC_tauxy.flatten()))\n",
    "t[:4]=DPC_tauxy.std()\n",
    "remove_forcing_pattern(EDF_tauxy.flatten(),t,'wind',output_dir=outdir,return_original_forcing=False)"
   ]
  },
  {
   "cell_type": "markdown",
   "id": "ab51c1ec-a3d3-40d8-b14c-2c7f348f6ba3",
   "metadata": {},
   "source": [
    "# `data.diagnostics` output namelist\n",
    "\n",
    "```\n",
    "# Diagnostic Package Choices\n",
    "### MINIMAL VERSION: produces month-averaged ocean prognostic variables in the\n",
    "#                    diags folder with no sub-directory structure\n",
    "#-----------------\n",
    "# for each output-stream:\n",
    "#  filename(n) : prefix of the output file name (only 8.c long) for outp.stream n\n",
    "#  frequency(n):< 0 : write snap-shot output every multiple of |frequency| (iter)\n",
    "#               > 0 : write time-average output every multiple of frequency (iter)\n",
    "#  levels(:,n) : list of levels to write to file (Notes: declared as REAL)\n",
    "#                 when this entry is missing, select all common levels of this list\n",
    "#  fields(:,n) : list of diagnostics fields (8.c) (see \"available_diagnostics\" file\n",
    "#                 for the list of all available diag. in this particular config)\n",
    "#--------------------------------------------------------------------\n",
    "#\n",
    " &diagnostics_list\n",
    "#\n",
    "    dumpatlast = .TRUE.,\n",
    "#   diag_mnc   = .TRUE., \n",
    "# (the above for NetCDF i/o with pkg/mnc https://mitgcm.readthedocs.io/en/latest/outp_pkgs/outp_pkgs.html#netcdf-i-o-pkg-mnc)\n",
    "#---\n",
    "frequency(1) = 2635200.0,\n",
    "fields(1,1) = 'THETA',\n",
    "filename(1) = 'diags/THETA'\n",
    "#---\n",
    "frequency(2) = 2635200.0,\n",
    "fields(1,2) = 'SALT',\n",
    "filename(2) = 'diags/SALT'\n",
    "#---\n",
    "frequency(3) = 2635200.0,\n",
    "fields(1,3) = 'UVELMASS'\n",
    "filename(3) = 'diags/UVELMASS'\n",
    "#---\n",
    "frequency(4) = 2635200.0,\n",
    "fields(1,4) = 'VVELMASS'\n",
    "filename(4) = 'diags/VVELMASS'\n",
    "#---\n",
    "frequency(5) = 2635200.0,\n",
    "fields(1,5) = 'RHOAnoma'\n",
    "filename(5) = 'diags/RHOAnoma'\n",
    "#---\n",
    "frequency(6) = 2635200.0,\n",
    "fields(1,6) = 'SSH',\n",
    "filename(6) = 'diags/SSH'\n",
    "#---\n",
    "frequency(7) = 2635200.0,\n",
    "fields(1,7) = 'ETAN',\n",
    "filename(7) = 'diags/ETAN'\n",
    "#---\n",
    "frequency(8) = 2635200.0,\n",
    "fields(1,8) = 'UTHMASS',\n",
    "filename(8) = 'diags/UTHMASS'\n",
    "#---\n",
    "frequency(9) = 2635200.0,\n",
    "fields(1,9) = 'VTHMASS',\n",
    "filename(9) = 'diags/VTHMASS'\n",
    "#---\n",
    "frequency(10) = 2635200.0,\n",
    "fields(1,10) = 'MXLDEPTH',\n",
    "filename(10) = 'diags/MXLDEPTH'\n",
    "#---\n",
    "frequency(11) = 2635200.0,\n",
    "fields(1,11) = 'oceTAUX',\n",
    "filename(11) = 'diags/oceTAUX'\n",
    "#---\n",
    "frequency(12) = 2635200.0,\n",
    "fields(1,12) = 'oceTAUY',\n",
    "filename(12) = 'diags/oceTAUY'\n",
    "#---\n",
    "\n",
    "\n",
    "\n",
    "  /\n",
    "#\n",
    "#\n",
    "# Parameter for Diagnostics of per level statistics:\n",
    "#-----------------\n",
    "# for each output-stream:\n",
    "#  stat_fname(n) : prefix of the output file name (only 8.c long) for outp.stream n\n",
    "#  stat_freq(n):< 0 : write snap-shot output every |stat_freq| seconds\n",
    "#               > 0 : write time-average output every stat_freq seconds\n",
    "#  stat_phase(n)    : write at time = stat_phase + multiple of |stat_freq|\n",
    "#  stat_region(:,n) : list of \"regions\" (default: 1 region only=global)\n",
    "#  stat_fields(:,n) : list of diagnostics fields (8.c) (see \"available_diagnostics.log\"\n",
    "#                 file for the list of all available diag. in this particular config)\n",
    "#-----------------\n",
    " &DIAG_STATIS_PARMS\n",
    "# diagSt_regMaskFile='basin_masks_eccollc_90x50.bin',\n",
    "# nSetRegMskFile=1,\n",
    "# set_regMask(1)= 1,  1,  1,  1,  1,  1,  1,  1,  1,\n",
    "#                 1,  1,  1,  1,  1,  1,  1,  1\n",
    "# val_regMask(1)= 1., 2., 3., 4., 5., 6., 7., 8., 9.,\n",
    "#                10.,11.,12.,13.,14.,15.,16.,17.\n",
    "##---\n",
    "# stat_fields(1,1)= 'ETAN    ','ETANSQ  ','DETADT2 ',\n",
    "#                   'UVEL    ','VVEL    ','WVEL    ',\n",
    "#                   'THETA   ','SALT    ',\n",
    "#    stat_fname(1)= 'dynStDiag',\n",
    "#     stat_freq(1)= 3153600.,\n",
    "# stat_region(1,1)=  1, 2, 3, 4, 5, 6, 7, 8, 9,\n",
    "#                   10,11,12,13,14,15,16,17\n",
    "##---\n",
    "# stat_fields(1,2)= 'oceTAUX ','oceTAUY ',\n",
    "#                   'surForcT','surForcS','TFLUX   ','SFLUX   ',\n",
    "#                   'oceQnet ','oceSflux','oceFWflx',\n",
    "#    stat_fname(2)= 'surfStDiag',\n",
    "#     stat_freq(2)= 3153600.,\n",
    "# stat_region(1,2)=  1, 2, 3, 4, 5, 6, 7, 8, 9,\n",
    "#                   10,11,12,13,14,15,16,17\n",
    "  /\n",
    "```"
   ]
  },
  {
   "cell_type": "code",
   "execution_count": null,
   "id": "e9c624d7-4336-4c39-9193-7b23dc434ecf",
   "metadata": {},
   "outputs": [],
   "source": []
  }
 ],
 "metadata": {
  "kernelspec": {
   "display_name": "Python [conda env:miniconda3-oce]",
   "language": "python",
   "name": "conda-env-miniconda3-oce-py"
  },
  "language_info": {
   "codemirror_mode": {
    "name": "ipython",
    "version": 3
   },
   "file_extension": ".py",
   "mimetype": "text/x-python",
   "name": "python",
   "nbconvert_exporter": "python",
   "pygments_lexer": "ipython3",
   "version": "3.8.15"
  }
 },
 "nbformat": 4,
 "nbformat_minor": 5
}
