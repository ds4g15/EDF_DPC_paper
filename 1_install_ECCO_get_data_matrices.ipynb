{
 "cells": [
  {
   "cell_type": "markdown",
   "id": "5668dfc7-3114-41ca-bf91-ec50274740c5",
   "metadata": {},
   "source": [
    "# 0. Installing MITgcm in the ECCO configuration\n",
    "The ECCO configuration of the MITgcm is the basis for all of our results. While it is not necessary to install and run the model to obtain the forcing data matrices (which can be calculated straight from the model input files), it is needed to obtain adjoint sensitivity matrices, and, ultimately, the DPC--EDF decomposition, as well as being used to test the model response to EDF patterns.\n",
    "\n",
    "Full instructions on installing the model can be found in `ECCO_adjoint_instructions.pdf`."
   ]
  },
  {
   "cell_type": "markdown",
   "id": "4b75e96f-b09e-43d3-8ab2-c285edd0ffe9",
   "metadata": {
    "tags": []
   },
   "source": [
    "# 1. Obtaining ECCO forcing files and calculating associated data matrices and EOF/PC decomposition\n",
    "\n",
    "As the DPC--EDF method requires information from both a forcing data matrix and an adjoint sensitivity matrix, we begin by obtaining the forcing data matrix directly from the ECCOv4r4 forcing files. These files are in the binary \"MDS\" format used by MITgcm, with one file per year, at 6 hourly frequency (1460 entries for non-leap years, 1464 entries for leap years).\n",
    "\n",
    "We will eventually use these files to re-run the (flux-forced) ECCO state estimate, so it is worth downloading all ECCOv4r4 forcing files. The process is described in Section 2.5.1 of `ECCO_adjoint_instructions.pdf`, but is recapped here. The download requires a podaac account and 210GB of storage space. The following command on Linux-based systems will obtain the necessary files. Change `<YOUR_USERNAME>` for your podaac username.\n",
    "\n",
    "```\n",
    "wget -r --no-parent --user <YOUR_USERNAME> --ask-password \\\n",
    "https://ecco.jpl.nasa.gov/drive/files/Version4/Release4/other\n",
    "mv ecco.jpl.nasa.gov/drive/files/Version4/Release4/other/ .\n",
    "rm -r ecco.jpl.nasa.gov/\n",
    "```\n",
    "\n",
    "We also want the file `ECCO-GRID.nc` which contains information about the LLC90 grid on which the state estimate is run.\n",
    "\n",
    "```\n",
    "wget -r --no-parent --user <YOUR_USERNAME> --ask-password \\\n",
    "https://ecco.jpl.nasa.gov/drive/files/Version4/Release4/nctiles_grid/ECCO-GRID.nc\n",
    "mv ecco.jpl.nasa.gov/drive/files/Version4/Release4/nctiles_grid/ECCO-GRID.nc .\n",
    "rm -r ecco.jpl.nasa.gov/\n",
    "```\n",
    "\n",
    "We will use the function `get_ecco_forcing` from the attached `DPC_functions.py` to load the `hflux` (net heat flux, Wm⁻², positive out of the ocean),`oceTAUX`, and `oceTAUY` (x-oriented and y-oriented -not zonal and meridional- wind stress, Nm⁻²) variables used in part to force the flux-forced simulation. This function returns the raw forcing and a climatology calculated from it. The function `forcing_anom` takes these two outputs and diagnoses the anomaly data matrix used to calculate EOFs and PCs."
   ]
  },
  {
   "cell_type": "code",
   "execution_count": 2,
   "id": "1c56b8fe-1180-4d92-be6c-f1e1860b5bc5",
   "metadata": {},
   "outputs": [
    {
     "data": {
      "image/png": "[encoded data removed]",
      "text/plain": [
       "<Figure size 432x288 with 1 Axes>"
      ]
     },
     "metadata": {
      "needs_background": "light"
     },
     "output_type": "display_data"
    }
   ],
   "source": [
    "from DPC_functions import *"
   ]
  },
  {
   "cell_type": "code",
   "execution_count": 13,
   "id": "7ae8b6cd-aa04-41be-a189-64a465a0aafb",
   "metadata": {},
   "outputs": [
    {
     "data": {
      "text/plain": [
       "\u001b[0;31mSignature:\u001b[0m\n",
       "\u001b[0mget_ecco_forcing\u001b[0m\u001b[0;34m(\u001b[0m\u001b[0;34m\u001b[0m\n",
       "\u001b[0;34m\u001b[0m    \u001b[0mvariable_name\u001b[0m\u001b[0;34m,\u001b[0m\u001b[0;34m\u001b[0m\n",
       "\u001b[0;34m\u001b[0m    \u001b[0mforcing_dir\u001b[0m\u001b[0;34m=\u001b[0m\u001b[0;32mNone\u001b[0m\u001b[0;34m,\u001b[0m\u001b[0;34m\u001b[0m\n",
       "\u001b[0;34m\u001b[0m    \u001b[0mnsteps_mean\u001b[0m\u001b[0;34m=\u001b[0m\u001b[0;36m1\u001b[0m\u001b[0;34m,\u001b[0m\u001b[0;34m\u001b[0m\n",
       "\u001b[0;34m\u001b[0m    \u001b[0mcalc_clim\u001b[0m\u001b[0;34m=\u001b[0m\u001b[0;32mTrue\u001b[0m\u001b[0;34m,\u001b[0m\u001b[0;34m\u001b[0m\n",
       "\u001b[0;34m\u001b[0m    \u001b[0mshow_progress\u001b[0m\u001b[0;34m=\u001b[0m\u001b[0;32mFalse\u001b[0m\u001b[0;34m,\u001b[0m\u001b[0;34m\u001b[0m\n",
       "\u001b[0;34m\u001b[0m\u001b[0;34m)\u001b[0m\u001b[0;34m\u001b[0m\u001b[0;34m\u001b[0m\u001b[0m\n",
       "\u001b[0;31mDocstring:\u001b[0m\n",
       "Load raw ECCOv4r4 6-hourly surface forcing files as a numpy array, optionally calculating\n",
       "their climatology.\n",
       "\n",
       "Parameters:\n",
       "-----------\n",
       "variable_name (str): name of the surface forcing variable, from the following:\n",
       "    name - documented name; description\n",
       "    STANDARD ECCO\n",
       "    ------------------------------------------------------\n",
       "    dlw - lwdown; Downward longwave radiation in W/m^2\n",
       "    dsw - swdown; Downward shortwave radiation in W/m^2\n",
       "    pres - apressure; Atmospheric pressure field in N/m^2\n",
       "    rain - precip; Precipitation in m/s\n",
       "    spfh2m - aqh; Surface (2m) specific humidity in kg/kg\n",
       "    tmp2m - atemp; Surface (2-m) air temperature in deg K\n",
       "    ustr - ustress; Zonal surface wind stress in N/m^2\n",
       "    vstr - vstress; Meridional surface wind stress in N/m^2\n",
       "    wspeed - wspeed; Surface (10-m) wind speed in m/s\n",
       "    --------------------------------------------------------\n",
       "    FLUX-FORCED\n",
       "    --------------------------------------------------------        \n",
       "    TFLUX    - hflux   ; net upward surface heat flux (W/m2)\n",
       "    oceQsw   - swflux  ; Net upward shortwave radiation (W/m2)\n",
       "    oceFWflx - sflux   ; Net upward freshwater flux (m/s)\n",
       "    oceSflux - saltflx ; Net upward salt flux (psu*kg/m2/s)\n",
       "    oceSPflx - spflx   ; Salt tendency due to salt plume flux (g/m2/s)\n",
       "    oceTAUX  - ustress ; Zonal surface wind stress (N/m^2)\n",
       "    oceTAUY  - vstress ; Meridional surface wind stress (N/m^2)\n",
       "    sIceLoadPatmPload_nopabar - apressure ; atmospheric pressure (N/m2)\n",
       "    \n",
       "    (see https://mitgcm.readthedocs.io/en/latest/phys_pkgs/exf.html)\n",
       "\n",
       "forcing_dir (str): the location of the forcing files, most likely a directory called \"input forcing\"\n",
       "nsteps_mean (int, default=1): by default the forcing is at 6h frequency. If, e.g., daily averages\n",
       "                              are desired, nsteps_mean=4 instead averages over 4 6-hour steps\n",
       "calc_clim (bool, default=True): in addition to the raw forcing data, return their climatology\n",
       "show_progress (bool, default=False): provide a print update with time elapsed for every year loaded\n",
       "\n",
       "Returns:\n",
       "--------\n",
       "forc_array (np.ndarray): an (Ntot,13,90,90) array of forcing on the LLC90 grid, where Ntot is the total\n",
       "                        number of outputs in the ECCO period (default 37894, determined by nsteps_mean).\n",
       "forc_array_clim (np.ndarray): an (Nyr, 13,90,90) array of the forcing climatology on the LLC90 grid, where\n",
       "                        Nyr is the number of outputs in 366 days (default 1464, determined by nsteps_mean).\n",
       "                        \n",
       "\u001b[0;31mFile:\u001b[0m      ~/AMOC_paper_repo/DPC_functions.py\n",
       "\u001b[0;31mType:\u001b[0m      function\n"
      ]
     },
     "metadata": {},
     "output_type": "display_data"
    }
   ],
   "source": [
    "get_ecco_forcing?"
   ]
  },
  {
   "cell_type": "markdown",
   "id": "1b4f3ab4-2a4d-4d1a-b855-0831873607ae",
   "metadata": {},
   "source": [
    "## Get the heat flux data matrix"
   ]
  },
  {
   "cell_type": "code",
   "execution_count": 25,
   "id": "675c6ed2-1d93-43f2-b1c5-2499939b1a2f",
   "metadata": {},
   "outputs": [],
   "source": [
    "# forcingdir='/where/you/downloaded/ECCO/files/other/flux-forced/forcing/'\n",
    "forcingdir='/glade/work/dafydd/ECCOv4r4_input/other/flux-forced/forcing'\n",
    "hflux_X,hflux_X_clim=get_ecco_forcing('TFLUX',forcing_dir=forcingdir,show_progress=True)\n",
    "hflux_X=forcing_anom(hflux_X,hflux_X_clim)"
   ]
  },
  {
   "cell_type": "markdown",
   "id": "766cad06-593a-4068-8003-6c1e08e4f4e8",
   "metadata": {},
   "source": [
    "## Reduce the spatial dimensions of the data matrix to the Atlantic in [-35,80]°N \n",
    "We use the indexing variable `Ti` which is calculated in `DPC_functions`. This reduces the heat flux anomaly data matrix to shape (37988,10469) [time x space]"
   ]
  },
  {
   "cell_type": "code",
   "execution_count": 26,
   "id": "d27fca12-9724-4ae6-b587-a4cb5c03e525",
   "metadata": {},
   "outputs": [],
   "source": [
    "hflux_X=hflux_X.reshape(-1,13*90*90)[:,Ti]\n",
    "print(hflux_X.shape)"
   ]
  },
  {
   "cell_type": "code",
   "execution_count": null,
   "id": "87409c0d-f5a0-4872-90cc-eabeab93fea6",
   "metadata": {},
   "outputs": [],
   "source": [
    "np.save('hflux_anomaly_data_matrix.npy')"
   ]
  },
  {
   "cell_type": "markdown",
   "id": "ddae1d53-83c5-434c-a06d-2783666f2408",
   "metadata": {},
   "source": [
    "## Calculate EOFs as the eigendecomposition of the covariance matrix XᵀX"
   ]
  },
  {
   "cell_type": "code",
   "execution_count": 28,
   "id": "714fffbf-591b-41a9-983c-83edad7fcd4d",
   "metadata": {},
   "outputs": [
    {
     "name": "stderr",
     "output_type": "stream",
     "text": [
      "/glade/u/home/dafydd/miniconda3/envs/oce/lib/python3.8/site-packages/scipy/sparse/linalg/eigen/arpack/arpack.py:1593: RuntimeWarning: k >= N for N * N square matrix. Attempting to use scipy.linalg.eigh instead.\n",
      "  warnings.warn(\"k >= N for N * N square matrix. \"\n"
     ]
    },
    {
     "name": "stdout",
     "output_type": "stream",
     "text": [
      "CPU times: user 4min, sys: 550 ms, total: 4min\n",
      "Wall time: 4min 7s\n"
     ]
    }
   ],
   "source": [
    "%%time\n",
    "hflux_C = ( 1/len(hflux_X) ) * (hflux_X.T).dot(hflux_X)\n",
    "hflux_λ,hflux_EOFs=la.eigsh(hflux_C,k=10469)"
   ]
  },
  {
   "cell_type": "code",
   "execution_count": 47,
   "id": "8805512a-bc11-47d1-96d0-b02b46a00be6",
   "metadata": {},
   "outputs": [
    {
     "name": "stdout",
     "output_type": "stream",
     "text": [
      "CPU times: user 1min 22s, sys: 1.23 s, total: 1min 24s\n",
      "Wall time: 1min 25s\n"
     ]
    }
   ],
   "source": [
    "%%time\n",
    "hflux_PCs=hflux_X.dot(hflux_EOFs)/np.sqrt(hflux_λ*len(hflux_X))"
   ]
  },
  {
   "cell_type": "markdown",
   "id": "a2ae5e1b-7615-4895-a462-c725d2041404",
   "metadata": {},
   "source": [
    "## As above, for wind stress\n",
    "We concatenate the two variables `oceTAUX` and `oceTAUY` into a single data matrix:"
   ]
  },
  {
   "cell_type": "code",
   "execution_count": 50,
   "id": "f27d2366-1ca4-48ff-bdf1-8be8ab620c94",
   "metadata": {},
   "outputs": [
    {
     "name": "stdout",
     "output_type": "stream",
     "text": [
      "CPU times: user 1min 58s, sys: 1min 27s, total: 3min 25s\n",
      "Wall time: 3min 33s\n"
     ]
    }
   ],
   "source": [
    "%%time\n",
    "# forcingdir='/where/you/downloaded/ECCO/files/other/flux-forced/forcing/'\n",
    "forcingdir='/glade/work/dafydd/ECCOv4r4_input/other/flux-forced/forcing'\n",
    "taux_X,taux_X_clim=get_ecco_forcing('oceTAUX',forcing_dir=forcingdir,show_progress=False)\n",
    "taux_X=forcing_anom(taux_X,taux_X_clim)\n",
    "taux_X=taux_X.reshape(-1,13*90*90)[:,Ui]\n",
    "\n",
    "tauy_X,tauy_X_clim=get_ecco_forcing('oceTAUY',forcing_dir=forcingdir,show_progress=False)\n",
    "tauy_X=forcing_anom(tauy_X,tauy_X_clim)\n",
    "tauy_X=tauy_X.reshape(-1,13*90*90)[:,Vi]\n",
    "\n",
    "tauxy_X=np.hstack([taux_X,tauy_X])"
   ]
  },
  {
   "cell_type": "code",
   "execution_count": null,
   "id": "14a7e579-8a37-4fcd-9950-845cb2672be7",
   "metadata": {},
   "outputs": [],
   "source": [
    "np.save('tauxy_anomaly_data_matrix.npy')"
   ]
  },
  {
   "cell_type": "code",
   "execution_count": 54,
   "id": "798099ca-417c-40ef-9f3c-68e3c7c7cf72",
   "metadata": {},
   "outputs": [
    {
     "name": "stdout",
     "output_type": "stream",
     "text": [
      "CPU times: user 32min 26s, sys: 5.82 s, total: 32min 32s\n",
      "Wall time: 33min 5s\n"
     ]
    }
   ],
   "source": [
    "%%time\n",
    "tauxy_C = ( 1/len(tauxy_X) ) * (tauxy_X.T).dot(tauxy_X)\n",
    "tauxy_λ,tauxy_EOFs=la.eigsh(tauxy_C,k=20280)\n",
    "tauxy_PCs=tauxy_X.dot(tauxy_EOFs)/np.sqrt(tauxy_λ*len(tauxy_X))"
   ]
  }
 ],
 "metadata": {
  "kernelspec": {
   "display_name": "Python [conda env:miniconda3-oce]",
   "language": "python",
   "name": "conda-env-miniconda3-oce-py"
  },
  "language_info": {
   "codemirror_mode": {
    "name": "ipython",
    "version": 3
   },
   "file_extension": ".py",
   "mimetype": "text/x-python",
   "name": "python",
   "nbconvert_exporter": "python",
   "pygments_lexer": "ipython3",
   "version": "3.8.15"
  }
 },
 "nbformat": 4,
 "nbformat_minor": 5
}
