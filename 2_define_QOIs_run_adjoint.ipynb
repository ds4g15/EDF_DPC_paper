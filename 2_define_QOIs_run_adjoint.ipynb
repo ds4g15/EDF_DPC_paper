{
 "cells": [
  {
   "cell_type": "markdown",
   "id": "1c471ea8-1d44-4ba6-a502-d1cbb9994fbb",
   "metadata": {},
   "source": [
    "# Defining QoIs and running the MITgcm adjoint model to obtain adjoint sensitivity matrices\n",
    "\n",
    "The process of differentiating and compiling MITgcm to obtain its adjoint, as well as running the compiled adjoint with generic QoIs, is described in `ECCO_adjoint_instructions.pdf` Section 3.\n",
    "Our adjoint experiments use a CORE normal year forced version of the ECCOv4r4 configuration. Forcing, restart, and namelist files specific to this version can be found at https://doi.org/10.5281/zenodo.7814839\n",
    "\n",
    "In order to define the QoI in a way that can be read by the adjoint, we need to edit the `data.ecco` namelist file, telling it which type of QoI we are interested in. We also need to provide masks in binary MDS format to tell the model where and when to evaluate the QoI. This is described in more detail [in the MITgcm manual](https://mitgcm.readthedocs.io/en/latest/ocean_state_est/ocean_state_est.html#generic-cost-function), as well as Section 3.1.2 of `ECCO_adjoint_instructions.pdf`.\n",
    "\n",
    "This notebook defines space and time masks and provides the `data.ecco` file used for our QoI, then writes MDS mask files to be read by the model. These masks can also be used to diagnose QoI values from regular MITgcm output, by applying them to the THETA variable and integrating over volume.\n",
    "\n",
    "The script `ADJ_to_netcdf.py` can be used to convert standard MITgcm adjoint output to netCDF format."
   ]
  },
  {
   "cell_type": "code",
   "execution_count": 3,
   "id": "37d956e6-f826-4270-912a-b59b96588cda",
   "metadata": {},
   "outputs": [
    {
     "data": {
      "image/png": "[encoded data removed]",
      "text/plain": [
       "<Figure size 432x288 with 1 Axes>"
      ]
     },
     "metadata": {
      "needs_background": "light"
     },
     "output_type": "display_data"
    }
   ],
   "source": [
    "from DPC_functions import *"
   ]
  },
  {
   "cell_type": "markdown",
   "id": "909cceb3-ee5e-484f-9461-e6d9668469ab",
   "metadata": {},
   "source": [
    "# Prepare and save QoI masks\n",
    "## Spatial masks"
   ]
  },
  {
   "cell_type": "code",
   "execution_count": null,
   "id": "c45ee3c0-6b0b-4f76-a4ea-a6d971a7282c",
   "metadata": {},
   "outputs": [],
   "source": [
    "# Can get this file from https://ecco.jpl.nasa.gov/drive/files/Version4/Release4/nctiles_grid\n",
    "GDS=xr.open_dataset('~/ECCO-GRID.nc')\n",
    "\n",
    "################################################################################                                                                                                                       \n",
    "# Can either run the ECCOv4r4_reproduction to obtain ECCOv4r4_SSH_monthly.nc or download from\n",
    "# https://ecco.jpl.nasa.gov/drive/files/Version4/Release4/nctiles_monthly/SSH and concatenate\n",
    "DH=xr.open_dataset('ECCOv4r4_SSH_monthly.nc').SSH.mean('time').values\n",
    "\n",
    "# Get surface mask of the Atlantic ocean\n",
    "atlmsk=ecco.get_basin_mask(['atl','mexico'],GDS.hFacC,less_output=True)\n",
    "ohcmsk2d=atlmsk.isel(k=0).values.copy()\n",
    "\n",
    "# delete locations where latitude < 0, longitude > -18, and climatological DH>-0.7m\n",
    "ohcmsk2d[GDS.YC.values<0]=0\n",
    "ohcmsk2d[GDS.XC.values>-18]=0\n",
    "ohcmsk2d[DH>-0.7]=0\n",
    "\n",
    "# Create a vertical mask (50 levels) and delete below level 26 (~700m)\n",
    "zmsk=np.ones(50)\n",
    "zmsk[26:]=0\n",
    "\n",
    "# Combine two masks to make a single 3d mask\n",
    "ohcmsk=(ohcmsk2d*zmsk[:,None,None,None])\n",
    "# Convert to an xarray DataArray to ensure compatibility with MDS writing functions\n",
    "ohcmsk=(xr.ones_like(atlmsk)*ohcmsk)\n",
    "\n",
    "# Get volume of unmasked area (ecco will calculate QoI in K, can use volume to return to J)\n",
    "dVC=GDS.rA.expand_dims({'k':50})*GDS.drF*ohcmsk\n",
    "voltot=dVC.values.sum()\n",
    "\n",
    "with open('SPG_UOHC_MASK.info','wt') as infofile:\n",
    "    infostr=('Mask file to be read by ECCO package gencost routines: \\n'+\\\n",
    "             'Ocean heat content in region defined by largest closed negative dynamic height contour'+\\\n",
    "             'following Foukal and Lozier (2017) definition of the SPG, from 0-700m'+\\\n",
    "             'Volume of unmasked gridcells:'+str(voltot))\n",
    "    infofile.write(infostr)\n",
    "\n",
    "\n",
    "extra_metadata=xm.utils.get_extra_metadata(domain='llc',nx=90)\n",
    "print('converting to standard LLC layout (5 faces)')\n",
    "facets=xm.utils.rebuild_llc_facets(ohcmsk.rename({'tile':'face'}),extra_metadata)\n",
    "print('converting to flat vector')\n",
    "compact=xm.utils.llc_facets_3d_spatial_to_compact(facets,'k',extra_metadata=extra_metadata)\n",
    "print('writing output')\n",
    "xm.utils.write_to_binary(compact,'SPG_UOHC_MASKC')\n",
    "xm.utils.write_to_binary(zmsk,'SPG_UOHC_MASKK')"
   ]
  },
  {
   "cell_type": "markdown",
   "id": "e9f39799-6385-4b58-95cd-3b471984015e",
   "metadata": {},
   "source": [
    "## Temporal mask"
   ]
  },
  {
   "cell_type": "code",
   "execution_count": null,
   "id": "93d7157d-2b24-4357-99a0-7c3e463460ea",
   "metadata": {},
   "outputs": [],
   "source": [
    "periods=600 #600 months in a 50 year run\n",
    "cfprds=12   #12 months over which we want to average our QoI\n",
    "timmsk=np.zeros(periods)\n",
    "timmsk[-cfprds:]=1\n",
    "\n",
    "xm.utils.write_to_binary(timmsk,'SPG_UOHC_MASKT')"
   ]
  },
  {
   "cell_type": "markdown",
   "id": "9ed1789b-87b2-48d8-92af-b496f2c39d04",
   "metadata": {},
   "source": [
    "# Namelist to run: `data.ecco`\n",
    "\n",
    "\n",
    "```\n",
    "# *******************\n",
    "# ECCO cost functions\n",
    "# *******************\n",
    " &ECCO_COST_NML\n",
    " &\n",
    "# ***************************\n",
    "# ECCO generic cost functions \n",
    "# ***************************\n",
    " &ECCO_GENCOST_NML\n",
    "# OHC\n",
    " gencost_name(1) = 'OHC',\n",
    " gencost_barfile(1) = 'm_boxmean_theta',\n",
    " gencost_avgperiod(1) = 'month',\n",
    " gencost_msk_is3d(1)=.TRUE.,\n",
    " gencost_outputlevel(1) = 1,\n",
    " gencost_mask(1) = 'SPG_UOHC_MASK'\n",
    " mult_gencost(1) = 1,\n",
    "#\n",
    " &\n",
    "#\n",
    "\n",
    "```"
   ]
  }
 ],
 "metadata": {
  "kernelspec": {
   "display_name": "Python [conda env:miniconda3-oce]",
   "language": "python",
   "name": "conda-env-miniconda3-oce-py"
  },
  "language_info": {
   "codemirror_mode": {
    "name": "ipython",
    "version": 3
   },
   "file_extension": ".py",
   "mimetype": "text/x-python",
   "name": "python",
   "nbconvert_exporter": "python",
   "pygments_lexer": "ipython3",
   "version": "3.8.15"
  }
 },
 "nbformat": 4,
 "nbformat_minor": 5
}
